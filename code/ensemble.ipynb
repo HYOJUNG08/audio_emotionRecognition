{
 "cells": [
  {
   "cell_type": "code",
   "execution_count": 23,
   "metadata": {},
   "outputs": [],
   "source": [
    "import pandas as pd\n",
    "import numpy as np"
   ]
  },
  {
   "cell_type": "code",
   "execution_count": 20,
   "metadata": {},
   "outputs": [],
   "source": [
    "base=pd.read_csv('../output/wav2vec2-base.csv')\n",
    "xlsr=pd.read_csv('../output/xlsr-wav2vec-speech-emotion-recognition.csv')"
   ]
  },
  {
   "cell_type": "code",
   "execution_count": 21,
   "metadata": {},
   "outputs": [],
   "source": [
    "probs=[[0 for _ in range(7)] for _ in range(len(base.probs))]\n",
    "\n",
    "\n",
    "for idx, prob1, prob2 in zip(range(len(base.probs)), base.probs, xlsr.probs):\n",
    "    temp1=prob1[1:-1].split(',')\n",
    "    temp2=prob2[1:-1].split(',')\n",
    "    for i in range(7):\n",
    "        probs[idx][i]=(float(temp1[i])+float(temp2[i]))/2\n"
   ]
  },
  {
   "cell_type": "code",
   "execution_count": 27,
   "metadata": {},
   "outputs": [],
   "source": [
    "preds = [np.argmax(prob) for prob in probs]\n",
    "submission = pd.read_csv('../data/sample_submission.csv')\n",
    "submission['label'] = preds\n",
    "submission.to_csv('../ensemble.csv', index=False)"
   ]
  },
  {
   "cell_type": "code",
   "execution_count": null,
   "metadata": {},
   "outputs": [],
   "source": []
  }
 ],
 "metadata": {
  "kernelspec": {
   "display_name": "base",
   "language": "python",
   "name": "python3"
  },
  "language_info": {
   "codemirror_mode": {
    "name": "ipython",
    "version": 3
   },
   "file_extension": ".py",
   "mimetype": "text/x-python",
   "name": "python",
   "nbconvert_exporter": "python",
   "pygments_lexer": "ipython3",
   "version": "3.8.5"
  },
  "orig_nbformat": 4
 },
 "nbformat": 4,
 "nbformat_minor": 2
}
